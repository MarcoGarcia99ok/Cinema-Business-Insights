{
 "cells": [
  {
   "cell_type": "code",
   "execution_count": 1,
   "id": "48ca46cc-2b8b-4a79-9de2-c135f910dfc0",
   "metadata": {},
   "outputs": [
    {
     "data": {
      "text/html": [
       "<div>\n",
       "<style scoped>\n",
       "    .dataframe tbody tr th:only-of-type {\n",
       "        vertical-align: middle;\n",
       "    }\n",
       "\n",
       "    .dataframe tbody tr th {\n",
       "        vertical-align: top;\n",
       "    }\n",
       "\n",
       "    .dataframe thead th {\n",
       "        text-align: right;\n",
       "    }\n",
       "</style>\n",
       "<table border=\"1\" class=\"dataframe\">\n",
       "  <thead>\n",
       "    <tr style=\"text-align: right;\">\n",
       "      <th></th>\n",
       "      <th>Fecha</th>\n",
       "      <th>Cliente_ID</th>\n",
       "      <th>Total_Compra</th>\n",
       "      <th>Productos_Adquiridos</th>\n",
       "    </tr>\n",
       "  </thead>\n",
       "  <tbody>\n",
       "    <tr>\n",
       "      <th>0</th>\n",
       "      <td>3/1/2025</td>\n",
       "      <td>6734</td>\n",
       "      <td>162</td>\n",
       "      <td>Hotdog, Refresco</td>\n",
       "    </tr>\n",
       "    <tr>\n",
       "      <th>1</th>\n",
       "      <td>3/1/2025</td>\n",
       "      <td>6311</td>\n",
       "      <td>131</td>\n",
       "      <td>Refresco, Chocolate</td>\n",
       "    </tr>\n",
       "    <tr>\n",
       "      <th>2</th>\n",
       "      <td>3/1/2025</td>\n",
       "      <td>2184</td>\n",
       "      <td>184</td>\n",
       "      <td>Refresco, Nachos</td>\n",
       "    </tr>\n",
       "    <tr>\n",
       "      <th>3</th>\n",
       "      <td>3/1/2025</td>\n",
       "      <td>9666</td>\n",
       "      <td>213</td>\n",
       "      <td>Chocolate, Nachos, Hotdog</td>\n",
       "    </tr>\n",
       "    <tr>\n",
       "      <th>4</th>\n",
       "      <td>3/1/2025</td>\n",
       "      <td>3047</td>\n",
       "      <td>74</td>\n",
       "      <td>Hotdog</td>\n",
       "    </tr>\n",
       "  </tbody>\n",
       "</table>\n",
       "</div>"
      ],
      "text/plain": [
       "      Fecha  Cliente_ID  Total_Compra       Productos_Adquiridos\n",
       "0  3/1/2025        6734           162           Hotdog, Refresco\n",
       "1  3/1/2025        6311           131        Refresco, Chocolate\n",
       "2  3/1/2025        2184           184           Refresco, Nachos\n",
       "3  3/1/2025        9666           213  Chocolate, Nachos, Hotdog\n",
       "4  3/1/2025        3047            74                     Hotdog"
      ]
     },
     "execution_count": 1,
     "metadata": {},
     "output_type": "execute_result"
    }
   ],
   "source": [
    "import pandas as pd\n",
    "\n",
    "df = pd.read_csv(\"C:/Users/marco/Desktop/Power BI/Muestras de Power BI/Dashboard 5 Cinépolis/ComprasDulceria.csv\")\n",
    "\n",
    "# Definir los nuevos precios\n",
    "precios = {\n",
    "    \"Hotdog\": 74,\n",
    "    \"Refresco\": 88,\n",
    "    \"Nachos\": 96,\n",
    "    \"Palomitas\": 94,\n",
    "    \"Chocolate\": 43\n",
    "}\n",
    "\n",
    "# Función para calcular el nuevo total de compra\n",
    "def calcular_total(productos):\n",
    "    items = productos.split(\", \")\n",
    "    return sum(precios[item] for item in items if item in precios)\n",
    "\n",
    "# Aplicar la función a la columna 'Productos_Adquiridos'\n",
    "df[\"Total_Compra\"] = df[\"Productos_Adquiridos\"].apply(calcular_total)\n",
    "\n",
    "# Mostrar las primeras filas con los nuevos cálculos\n",
    "df.head()"
   ]
  },
  {
   "cell_type": "code",
   "execution_count": 3,
   "id": "c8ba52ff-66a8-46c8-b74f-ff56ba4b46bc",
   "metadata": {},
   "outputs": [],
   "source": [
    "df.to_csv(\"C:/Users/marco/Desktop/ComprasDulceria.csv\",index=False)"
   ]
  },
  {
   "cell_type": "code",
   "execution_count": null,
   "id": "a83b62d7-0a00-4637-9150-a8f2e55cf87a",
   "metadata": {},
   "outputs": [],
   "source": []
  }
 ],
 "metadata": {
  "kernelspec": {
   "display_name": "Python 3 (ipykernel)",
   "language": "python",
   "name": "python3"
  },
  "language_info": {
   "codemirror_mode": {
    "name": "ipython",
    "version": 3
   },
   "file_extension": ".py",
   "mimetype": "text/x-python",
   "name": "python",
   "nbconvert_exporter": "python",
   "pygments_lexer": "ipython3",
   "version": "3.11.7"
  }
 },
 "nbformat": 4,
 "nbformat_minor": 5
}
