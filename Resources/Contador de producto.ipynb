{
 "cells": [
  {
   "cell_type": "code",
   "execution_count": 29,
   "id": "c8ba52ff-66a8-46c8-b74f-ff56ba4b46bc",
   "metadata": {},
   "outputs": [
    {
     "data": {
      "text/plain": [
       "730"
      ]
     },
     "execution_count": 29,
     "metadata": {},
     "output_type": "execute_result"
    }
   ],
   "source": [
    "import pandas as pd\n",
    "\n",
    "df = pd.read_csv(\"C:/Users/marco/Desktop/Power BI/Muestras de Power BI/Dashboard 5 Cinépolis/ComprasDulceria.csv\")\n",
    "\n",
    "chocolates = 0\n",
    "\n",
    "for orden in df[\"Productos_Adquiridos\"]:\n",
    "    if \"Chocolate\" in orden:\n",
    "        chocolates +=1\n",
    "    else:\n",
    "        pass\n",
    "chocolates"
   ]
  }
 ],
 "metadata": {
  "kernelspec": {
   "display_name": "Python 3 (ipykernel)",
   "language": "python",
   "name": "python3"
  },
  "language_info": {
   "codemirror_mode": {
    "name": "ipython",
    "version": 3
   },
   "file_extension": ".py",
   "mimetype": "text/x-python",
   "name": "python",
   "nbconvert_exporter": "python",
   "pygments_lexer": "ipython3",
   "version": "3.11.7"
  }
 },
 "nbformat": 4,
 "nbformat_minor": 5
}
